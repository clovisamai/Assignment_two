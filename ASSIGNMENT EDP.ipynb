{
 "cells": [
  {
   "cell_type": "code",
   "execution_count": 1,
   "id": "b0728b8c",
   "metadata": {},
   "outputs": [],
   "source": [
    "import tkinter as tk\n",
    "\n",
    "def calculate_ages():\n",
    "    ages = []\n",
    "    for i in range(5):\n",
    "        name = name_entries[i].get()\n",
    "        age = age_entries[i].get()\n",
    "        try:\n",
    "            age = int(age)\n",
    "        except ValueError:\n",
    "            tk.messagebox.showerror(\"Error\", \"Please enter a valid age for {}.\".format(name))\n",
    "            return\n",
    "       \n",
    "        ages.append(age)\n",
    "        result_label.config(text=\"{} - Age: {}\".format(name, age))\n",
    "       \n",
    "    sum_ages = sum(ages)\n",
    "    average_age = sum_ages / len(ages)\n",
    "    average_label.config(text=\"Average age: {:.2f}\".format(average_age))\n",
    "   \n",
    "    if average_age > 60:\n",
    "        message_label.config(text=\"The family is mature\")\n",
    "    else:\n",
    "        message_label.config(text=\"It's young\")\n",
    "\n",
    "root = tk.Tk()\n",
    "root.title(\"Family Age Calculator\")\n",
    "\n",
    "name_entries = []\n",
    "age_entries = []\n",
    "\n",
    "for i in range(5):\n",
    "    tk.Label(root, text=\"Name of Family Member {}: \".format(i+1)).grid(row=i, column=0)\n",
    "    name_entry = tk.Entry(root)\n",
    "    name_entry.grid(row=i, column=1)\n",
    "    name_entries.append(name_entry)\n",
    "\n",
    "    tk.Label(root, text=\"Age of {}: \".format(name_entry.get())).grid(row=i, column=2)\n",
    "    age_entry = tk.Entry(root)\n",
    "    age_entry.grid(row=i, column=3)\n",
    "    age_entries.append(age_entry)\n",
    "\n",
    "result_label = tk.Label(root, text=\"\", font=(\"Arial\", 12))\n",
    "result_label.grid(row=6, columnspan=4)\n",
    "\n",
    "calculate_button = tk.Button(root, text=\"Calculate\", command=calculate_ages)\n",
    "calculate_button.grid(row=7, columnspan=4)\n",
    "\n",
    "average_label = tk.Label(root, text=\"\", font=(\"Arial\", 12))\n",
    "average_label.grid(row=8, columnspan=4)\n",
    "\n",
    "message_label = tk.Label(root, text=\"\", font=(\"Arial\", 12))\n",
    "message_label.grid(row=9, columnspan=4)\n",
    "\n",
    "root.mainloop()\n"
   ]
  },
  {
   "cell_type": "code",
   "execution_count": null,
   "id": "0ef1f793",
   "metadata": {},
   "outputs": [],
   "source": []
  }
 ],
 "metadata": {
  "kernelspec": {
   "display_name": "Python 3",
   "language": "python",
   "name": "python3"
  },
  "language_info": {
   "codemirror_mode": {
    "name": "ipython",
    "version": 3
   },
   "file_extension": ".py",
   "mimetype": "text/x-python",
   "name": "python",
   "nbconvert_exporter": "python",
   "pygments_lexer": "ipython3",
   "version": "3.8.8"
  }
 },
 "nbformat": 4,
 "nbformat_minor": 5
}
